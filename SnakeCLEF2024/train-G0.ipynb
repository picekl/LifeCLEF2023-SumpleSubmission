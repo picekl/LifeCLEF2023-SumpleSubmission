{
 "cells": [
  {
   "cell_type": "code",
   "execution_count": 1,
   "id": "062d1082-d551-43c0-a7b0-4ed1fd657481",
   "metadata": {
    "tags": []
   },
   "outputs": [
    {
     "name": "stdout",
     "output_type": "stream",
     "text": [
      "env: CUDA_DEVICES=0\n",
      "env: WANDB_ENTITY=zcu_cv\n",
      "env: WANDB_PROJECT=SnakeCLEF2024\n"
     ]
    }
   ],
   "source": [
    "%env CUDA_DEVICES = 0\n",
    "%env WANDB_ENTITY = zcu_cv\n",
    "%env WANDB_PROJECT = SnakeCLEF2024"
   ]
  },
  {
   "cell_type": "code",
   "execution_count": 2,
   "id": "62fef7b6-9a8f-4582-889d-6f4cff185be2",
   "metadata": {
    "tags": []
   },
   "outputs": [
    {
     "name": "stdout",
     "output_type": "stream",
     "text": [
      "Mon Feb 12 17:40:42 2024       \n",
      "+---------------------------------------------------------------------------------------+\n",
      "| NVIDIA-SMI 535.146.02             Driver Version: 535.146.02   CUDA Version: 12.2     |\n",
      "|-----------------------------------------+----------------------+----------------------+\n",
      "| GPU  Name                 Persistence-M | Bus-Id        Disp.A | Volatile Uncorr. ECC |\n",
      "| Fan  Temp   Perf          Pwr:Usage/Cap |         Memory-Usage | GPU-Util  Compute M. |\n",
      "|                                         |                      |               MIG M. |\n",
      "|=========================================+======================+======================|\n",
      "|   0  NVIDIA GeForce RTX 3090        Off | 00000000:01:00.0 Off |                  N/A |\n",
      "|100%   75C    P8              22W / 350W |  13152MiB / 24576MiB |      0%      Default |\n",
      "|                                         |                      |                  N/A |\n",
      "+-----------------------------------------+----------------------+----------------------+\n",
      "|   1  NVIDIA GeForce RTX 3090        Off | 00000000:05:00.0 Off |                  N/A |\n",
      "| 75%   66C    P2             299W / 350W |  23422MiB / 24576MiB |     97%      Default |\n",
      "|                                         |                      |                  N/A |\n",
      "+-----------------------------------------+----------------------+----------------------+\n",
      "                                                                                         \n",
      "+---------------------------------------------------------------------------------------+\n",
      "| Processes:                                                                            |\n",
      "|  GPU   GI   CI        PID   Type   Process name                            GPU Memory |\n",
      "|        ID   ID                                                             Usage      |\n",
      "|=======================================================================================|\n",
      "+---------------------------------------------------------------------------------------+\n"
     ]
    }
   ],
   "source": [
    "!nvidia-smi"
   ]
  },
  {
   "cell_type": "code",
   "execution_count": 3,
   "id": "a1e213e5-8a30-493d-8760-bba524949867",
   "metadata": {
    "tags": []
   },
   "outputs": [],
   "source": [
    "import os\n",
    "os.environ[\"CUDA_VISIBLE_DEVICES\"] = os.environ[\"CUDA_DEVICES\"]"
   ]
  },
  {
   "cell_type": "code",
   "execution_count": null,
   "id": "58e4529b-f2e8-4f7c-91d5-4048cd2480a2",
   "metadata": {
    "tags": []
   },
   "outputs": [
    {
     "name": "stdout",
     "output_type": "stream",
     "text": [
      "(script) INFO: Loading training config.\n",
      "(script) DEBUG: Extra arguments passed to the script: {}\n",
      "(script) INFO: Setting run name: efficientvit_l2.r384_in1k-SeeSawLoss-vit_heavy\n",
      "(script) INFO: Using experiment directory: ./runs/efficientvit_l2.r384_in1k-SeeSawLoss-vit_heavy/exp4\n",
      "(script) INFO: Using training configuration: {\n",
      "    \"augmentations\": \"vit_heavy\",\n",
      "    \"image_size\": [\n",
      "        384,\n",
      "        384\n",
      "    ],\n",
      "    \"dataset\": \"SnakeCLEF2023\",\n",
      "    \"architecture\": \"efficientvit_l2.r384_in1k\",\n",
      "    \"loss\": \"SeeSawLoss\",\n",
      "    \"optimizer\": \"SGD\",\n",
      "    \"scheduler\": \"plateau\",\n",
      "    \"epochs\": 50,\n",
      "    \"learning_rate\": 0.01,\n",
      "    \"batch_size\": 16,\n",
      "    \"accumulation_steps\": 2,\n",
      "    \"random_seed\": 777,\n",
      "    \"workers\": 8,\n",
      "    \"multigpu\": false,\n",
      "    \"tags\": [\n",
      "        \"Fine-tuning\"\n",
      "    ],\n",
      "    \"root_path\": \"./\",\n",
      "    \"run_name\": \"efficientvit_l2.r384_in1k-SeeSawLoss-vit_heavy\",\n",
      "    \"exp_name\": \"exp4\",\n",
      "    \"exp_path\": \"./runs/efficientvit_l2.r384_in1k-SeeSawLoss-vit_heavy/exp4\"\n",
      "}\n",
      "(fgvc) INFO: Using device: cuda (0)\n",
      "(fgvc) INFO: Device names: 0: NVIDIA GeForce RTX 3090\n",
      "(script) INFO: Loading training and validation metadata.\n",
      "train.py:42: DtypeWarning: Columns (1,8) have mixed types. Specify dtype option on import or set low_memory=False.\n",
      "  metadata = pd.read_csv(f\"./metadata/SnakeCLEF2023-full_metadata.csv\")\n",
      "(script) INFO: Creating model, optimizer, and scheduler.\n",
      "(script) INFO: Creating DataLoaders.\n",
      "(script) INFO: Creating loss function.\n",
      "torch.float32\n",
      "\u001b[34m\u001b[1mwandb\u001b[0m: Currently logged in as: \u001b[33mpicekl\u001b[0m (\u001b[33mzcu_cv\u001b[0m). Use \u001b[1m`wandb login --relogin`\u001b[0m to force relogin\n",
      "\u001b[34m\u001b[1mwandb\u001b[0m: wandb version 0.16.3 is available!  To upgrade, please run:\n",
      "\u001b[34m\u001b[1mwandb\u001b[0m:  $ pip install wandb --upgrade\n",
      "\u001b[34m\u001b[1mwandb\u001b[0m: Tracking run with wandb version 0.15.8\n",
      "\u001b[34m\u001b[1mwandb\u001b[0m: Run data is saved locally in \u001b[35m\u001b[1m/Projects/Competitions/SnakeCLEF2024/wandb/run-20240212_174049-1lc72tsk\u001b[0m\n",
      "\u001b[34m\u001b[1mwandb\u001b[0m: Run \u001b[1m`wandb offline`\u001b[0m to turn off syncing.\n",
      "\u001b[34m\u001b[1mwandb\u001b[0m: Syncing run \u001b[33mefficientvit_l2.r384_in1k-SeeSawLoss-vit_heavy\u001b[0m\n",
      "\u001b[34m\u001b[1mwandb\u001b[0m: ⭐️ View project at \u001b[34m\u001b[4mhttps://wandb.ai/zcu_cv/SnakeCLEF2024\u001b[0m\n",
      "\u001b[34m\u001b[1mwandb\u001b[0m: 🚀 View run at \u001b[34m\u001b[4mhttps://wandb.ai/zcu_cv/SnakeCLEF2024/runs/1lc72tsk\u001b[0m\n",
      "(script) INFO: Training the model.\n",
      "2024-02-12 17:40:50,069 - fgvc-training - INFO - Training started.\n",
      " 86%|████████████████████████████████▋     | 9007/10483 [31:34<05:10,  4.75it/s]"
     ]
    },
    {
     "name": "stderr",
     "output_type": "stream",
     "text": [
      "IOPub message rate exceeded.\n",
      "The Jupyter server will temporarily stop sending output\n",
      "to the client in order to avoid crashing it.\n",
      "To change this limit, set the config variable\n",
      "`--ServerApp.iopub_msg_rate_limit`.\n",
      "\n",
      "Current values:\n",
      "ServerApp.iopub_msg_rate_limit=1000.0 (msgs/sec)\n",
      "ServerApp.rate_limit_window=3.0 (secs)\n",
      "\n"
     ]
    },
    {
     "name": "stdout",
     "output_type": "stream",
     "text": [
      "100%|█████████████████████████████████████| 10483/10483 [37:04<00:00,  4.71it/s]\n",
      "100%|█████████████████████████████████████████| 883/883 [01:24<00:00, 10.50it/s]\n",
      "2024-02-12 19:35:44,757 - fgvc-training - INFO - Epoch 3 - avg_train_loss: 6.2748\tavg_val_loss: 6.2040\tF1: 0.05%\tAccuracy: 1.79%\tRecall@3: 4.83%\ttime: 2310s\n",
      "2024-02-12 19:35:44,762 - fgvc-training - INFO - Epoch 3 - Save checkpoint with best validation loss: 6.204012\n",
      "2024-02-12 19:35:45,059 - fgvc-training - INFO - Epoch 3 - Save checkpoint with best validation accuracy: 0.017851\n",
      "2024-02-12 19:35:45,236 - fgvc-training - INFO - Epoch 3 - Save checkpoint with best validation f1: 0.000533\n",
      " 86%|████████████████████████████████▌     | 8987/10483 [31:39<05:06,  4.89it/s]"
     ]
    }
   ],
   "source": [
    "!python train.py \\\n",
    "    --config-path configs/efficientvit_l2.r384_in1k.yaml \\\n",
    "    --cuda-devices $CUDA_DEVICES \\\n",
    "    --wandb-entity $WANDB_ENTITY \\\n",
    "    --wandb-project $WANDB_PROJECT"
   ]
  },
  {
   "cell_type": "code",
   "execution_count": null,
   "id": "6ed9cc35-6fc2-4646-a3a2-0c570bb58108",
   "metadata": {},
   "outputs": [],
   "source": []
  }
 ],
 "metadata": {
  "kernelspec": {
   "display_name": "Python 3 (ipykernel)",
   "language": "python",
   "name": "python3"
  },
  "language_info": {
   "codemirror_mode": {
    "name": "ipython",
    "version": 3
   },
   "file_extension": ".py",
   "mimetype": "text/x-python",
   "name": "python",
   "nbconvert_exporter": "python",
   "pygments_lexer": "ipython3",
   "version": "3.8.10"
  }
 },
 "nbformat": 4,
 "nbformat_minor": 5
}
